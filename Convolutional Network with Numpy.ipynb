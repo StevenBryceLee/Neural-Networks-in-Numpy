{
 "cells": [
  {
   "cell_type": "code",
   "execution_count": 42,
   "metadata": {},
   "outputs": [],
   "source": [
    "#The purpose of this notebook is to implement a convolutional network with numpy\n",
    "#Certain functions are reused from 'MNIST Classifier with Numpy.ipynb'"
   ]
  },
  {
   "cell_type": "code",
   "execution_count": 43,
   "metadata": {},
   "outputs": [],
   "source": [
    "import numpy as np\n",
    "from keras.datasets import mnist #Necessary to get MNIST dataset\n",
    "np.random.seed(1)"
   ]
  },
  {
   "cell_type": "code",
   "execution_count": 44,
   "metadata": {},
   "outputs": [
    {
     "name": "stdout",
     "output_type": "stream",
     "text": [
      "[[0. 0. 0. 0. 0. 1. 0. 0. 0. 0.]\n",
      " [1. 0. 0. 0. 0. 0. 0. 0. 0. 0.]\n",
      " [0. 0. 0. 0. 1. 0. 0. 0. 0. 0.]]\n"
     ]
    }
   ],
   "source": [
    "(x_train, y_train), (x_test, y_test) = mnist.load_data() #Load into tuples\n",
    "\n",
    "images, labels = (x_train[0:1000].reshape(1000,28*28) / 255, #take the first 1000 images for training and reshape them into 28,28 images, then scale them between 0 and 1\n",
    "                y_train[0:1000])\n",
    "\n",
    "one_hot_labels = np.zeros((len(labels),10)) #Create the label matrices\n",
    "for i,l in enumerate(labels):\n",
    "    one_hot_labels[i][l] = 1 #put a 1 in the matrix at the label location\n",
    "labels = one_hot_labels\n",
    "\n",
    "\n",
    "print(labels[0:3])\n",
    "\n",
    "test_images = x_test.reshape(len(x_test),28*28) / 255 #Reshape the test images as well\n",
    "test_labels = np.zeros((len(y_test),10))\n",
    "for i,l in enumerate(y_test):\n",
    "    test_labels[i][l] = 1\n",
    "\n",
    "def tanh(x):\n",
    "    return np.tanh(x) #implement the tanh activation function\n",
    "def tanh2deriv(x):\n",
    "    return 1 - (x ** 2) #derivative of tanh\n",
    "def softmax(x):\n",
    "    temp = np.exp(x)\n",
    "    return temp / np.sum(temp, axis = 1, keepdims = True)#output / sum\n",
    "\n",
    "alpha, iterations = (2,300) #Declare learning rate, epochs\n",
    "pixels_per_image, num_labels = (784,10) #Declare pixels in an image (28*28) and the labels\n",
    "batch_size = 128 #Number of examples per batch"
   ]
  },
  {
   "cell_type": "code",
   "execution_count": 45,
   "metadata": {},
   "outputs": [],
   "source": [
    "#Convolutional network specific information\n",
    "input_rows = 28 #Size of a single image\n",
    "input_cols = 28\n",
    "\n",
    "kernel_rows = 3\n",
    "kernel_cols = 3 #Size of a convolution. 3x3 subsection\n",
    "num_kernels = 16\n",
    "\n",
    "hidden_size = (( input_rows - kernel_rows) * #Declare hidden layer the size of the reduced image after convolution\n",
    "              (input_cols - kernel_cols)) * num_kernels\n",
    "\n",
    "kernels = 0.02 * np.random.random( (kernel_rows * kernel_cols, #initialize kernels between the size of the kernel rows and columns, scaled by 0.02\n",
    "                                   num_kernels) ) - 0.01\n",
    "weights_1_2 = 0.2 * np.random.random ((hidden_size, #Initialize second layer weights to be the size of the labels, scaled down\n",
    "                                      num_labels)) - 1\n"
   ]
  },
  {
   "cell_type": "code",
   "execution_count": 46,
   "metadata": {},
   "outputs": [],
   "source": [
    "#Functions for iterating over the image\n",
    "def get_image_section(layer,row_from,row_to,col_from,col_to):\n",
    "    section = layer[:,row_from:row_to,col_from:col_to] #section the size of the convolution\n",
    "    return section.reshape(-1,1,row_to-row_from,col_to - col_from)\n"
   ]
  },
  {
   "cell_type": "code",
   "execution_count": 47,
   "metadata": {},
   "outputs": [
    {
     "name": "stdout",
     "output_type": "stream",
     "text": [
      "\n",
      "I:0 Test-Acc:0.0286 Train-Acc:0.041\n"
     ]
    },
    {
     "ename": "KeyboardInterrupt",
     "evalue": "",
     "output_type": "error",
     "traceback": [
      "\u001b[1;31m---------------------------------------------------------------------------\u001b[0m",
      "\u001b[1;31mKeyboardInterrupt\u001b[0m                         Traceback (most recent call last)",
      "\u001b[1;32m<ipython-input-47-6fd62d91880d>\u001b[0m in \u001b[0;36m<module>\u001b[1;34m\u001b[0m\n\u001b[0;32m     65\u001b[0m         \u001b[0mflattened_input\u001b[0m \u001b[1;33m=\u001b[0m \u001b[0mexpanded_input\u001b[0m\u001b[1;33m.\u001b[0m\u001b[0mreshape\u001b[0m\u001b[1;33m(\u001b[0m\u001b[0mes\u001b[0m\u001b[1;33m[\u001b[0m\u001b[1;36m0\u001b[0m\u001b[1;33m]\u001b[0m \u001b[1;33m*\u001b[0m \u001b[0mes\u001b[0m\u001b[1;33m[\u001b[0m\u001b[1;36m1\u001b[0m\u001b[1;33m]\u001b[0m\u001b[1;33m,\u001b[0m\u001b[1;33m-\u001b[0m\u001b[1;36m1\u001b[0m\u001b[1;33m)\u001b[0m \u001b[1;31m#-1 means infer from the length of the existing array\u001b[0m\u001b[1;33m\u001b[0m\u001b[1;33m\u001b[0m\u001b[0m\n\u001b[0;32m     66\u001b[0m \u001b[1;33m\u001b[0m\u001b[0m\n\u001b[1;32m---> 67\u001b[1;33m         \u001b[0mkernel_output\u001b[0m \u001b[1;33m=\u001b[0m \u001b[0mflattened_input\u001b[0m\u001b[1;33m.\u001b[0m\u001b[0mdot\u001b[0m\u001b[1;33m(\u001b[0m\u001b[0mkernels\u001b[0m\u001b[1;33m)\u001b[0m \u001b[1;31m#Multiply the flattened input image section by the kernels\u001b[0m\u001b[1;33m\u001b[0m\u001b[1;33m\u001b[0m\u001b[0m\n\u001b[0m\u001b[0;32m     68\u001b[0m         \u001b[0mlayer_1\u001b[0m \u001b[1;33m=\u001b[0m \u001b[0mtanh\u001b[0m\u001b[1;33m(\u001b[0m\u001b[0mkernel_output\u001b[0m\u001b[1;33m.\u001b[0m\u001b[0mreshape\u001b[0m\u001b[1;33m(\u001b[0m\u001b[0mes\u001b[0m\u001b[1;33m[\u001b[0m\u001b[1;36m0\u001b[0m\u001b[1;33m]\u001b[0m\u001b[1;33m,\u001b[0m\u001b[1;33m-\u001b[0m\u001b[1;36m1\u001b[0m\u001b[1;33m)\u001b[0m\u001b[1;33m)\u001b[0m \u001b[1;31m#Finally, output layer 1 after reshaping the input\u001b[0m\u001b[1;33m\u001b[0m\u001b[1;33m\u001b[0m\u001b[0m\n\u001b[0;32m     69\u001b[0m         \u001b[0mlayer_2\u001b[0m \u001b[1;33m=\u001b[0m \u001b[0mnp\u001b[0m\u001b[1;33m.\u001b[0m\u001b[0mdot\u001b[0m\u001b[1;33m(\u001b[0m\u001b[0mlayer_1\u001b[0m\u001b[1;33m,\u001b[0m\u001b[0mweights_1_2\u001b[0m\u001b[1;33m)\u001b[0m \u001b[1;31m#Get the weighted probability of each image\u001b[0m\u001b[1;33m\u001b[0m\u001b[1;33m\u001b[0m\u001b[0m\n",
      "\u001b[1;31mKeyboardInterrupt\u001b[0m: "
     ]
    }
   ],
   "source": [
    "#np.random.seed(1)\n",
    "for j in range(iterations): #Train the network\n",
    "    correct_cnt = 0\n",
    "    for i in range(int(len(images) / batch_size)): #For each batch\n",
    "        batch_start, batch_end = ( (i * batch_size),( (i + 1) * batch_size))\n",
    "        layer_0 = images[batch_start:batch_end] #Input the first batch\n",
    "        layer_0 = layer_0.reshape(layer_0.shape[0],28,28) #Reshape as a 28,28 picture\n",
    "        \n",
    "        sects = list() #Hold each new section of the image\n",
    "        for row_start in range(layer_0.shape[1] - kernel_rows): #Iterate over the image but stop before the kernel overflows\n",
    "            for col_start in range(layer_0.shape[2] - kernel_cols):\n",
    "                sect = get_image_section(layer_0, \n",
    "                                         row_start,\n",
    "                                         row_start + kernel_rows,\n",
    "                                         col_start, \n",
    "                                         col_start + kernel_cols)\n",
    "                sects.append(sect) #Apend each section of the image to sects\n",
    "                \n",
    "        expanded_input = np.concatenate(sects,axis = 1) #Join each array along the column\n",
    "        es = expanded_input.shape\n",
    "        flattened_input = expanded_input.reshape(es[0] * es[1],-1) #-1 means infer from the length of the existing array\n",
    "        \n",
    "        kernel_output = flattened_input.dot(kernels) #Multiply the flattened input image section by the kernels\n",
    "        layer_1 = tanh(kernel_output.reshape(es[0],-1)) #Finally, output layer 1 after reshaping the input\n",
    "        dropout_mask = np.random.randint(2,size = layer_1.shape) #Regularize with dropout\n",
    "        layer_1 *= dropout_mask * 2 #Amplify remaining weights to get the same output\n",
    "        layer_2 = softmax(np.dot(layer_1,weights_1_2)) #Get the weighted probability of each image\n",
    "        \n",
    "        for k in range(batch_size): #increment over the batch\n",
    "            label_set = labels[batch_start + k: batch_start + k + 1]\n",
    "            counter = int(np.argmax(layer_2[k:k+1]) == \n",
    "                         np.argmax(label_set)) #compare each image to the correct label\n",
    "            correct_cnt += counter\n",
    "        \n",
    "        #Start backpropagation of error\n",
    "        layer_2_delta = (labels[batch_start:batch_end] - layer_2) \\\n",
    "                        / (batch_size * layer_2.shape[0]) #The delta is the error in the output layer divided by the number of images * possible outputs\n",
    "        layer_1_delta = layer_2_delta.dot(weights_1_2.T) * \\\n",
    "                        tanh2deriv(layer_1) #backpropagate the errors from layer 2 to layer 1\n",
    "        weights_1_2 += alpha * layer_1.T.dot(layer_2_delta) #update the weights in layer 2\n",
    "        l1d_reshape = layer_1_delta.reshape(kernel_output.shape) #get the reshaped layer 1 delta to multiply into the kernel\n",
    "        k_update = flattened_input.T.dot(l1d_reshape) #Get the delta for the kernels\n",
    "        kernels -= alpha * k_update #Change the kernels by the given l1 delta\n",
    "        \n",
    "    \n",
    "    #Test accuracy. Seems repetitive, but there are a few differences in reshaping, network shape\n",
    "    test_correct_cnt = 0\n",
    "\n",
    "    for i in range(len(test_images)): #Test the network against each test image\n",
    "        layer_0 = test_images[i:i + 1] #Get the test image\n",
    "        layer_0 = layer_0.reshape(layer_0.shape[0],28,28) #Reshape into a 28,28 image\n",
    "\n",
    "        sects = list() #Hold each new section of the image\n",
    "        for row_start in range(layer_0.shape[1] - kernel_rows): #Iterate over the image but stop before the kernel overflows\n",
    "            for col_start in range(layer_0.shape[2] - kernel_cols):\n",
    "                sect = get_image_section(layer_0, \n",
    "                                         row_start, \n",
    "                                         row_start + kernel_rows,\n",
    "                                         col_start, \n",
    "                                         col_start + kernel_cols)\n",
    "                sects.append(sect) #Apend each section of the image to sects\n",
    "\n",
    "        expanded_input = np.concatenate(sects,axis = 1) #Join each array along the column\n",
    "        es = expanded_input.shape\n",
    "        flattened_input = expanded_input.reshape(es[0] * es[1],-1) #-1 means infer from the length of the existing array\n",
    "\n",
    "        kernel_output = flattened_input.dot(kernels) #Multiply the flattened input image section by the kernels\n",
    "        layer_1 = tanh(kernel_output.reshape(es[0],-1)) #Finally, output layer 1 after reshaping the input\n",
    "        layer_2 = np.dot(layer_1,weights_1_2) #Get the weighted probability of each image\n",
    "\n",
    "        test_correct_cnt += int(np.argmax(layer_2) == \n",
    "                               np.argmax(test_labels[i:i+1]))\n",
    "\n",
    "    if(j % 1 == 0):\n",
    "        print(\"\\n\"+ \\\n",
    "         \"I:\" + str(j) + \\\n",
    "         \" Test-Acc:\"+str(test_correct_cnt/float(len(test_images)))+\\\n",
    "         \" Train-Acc:\" + str(correct_cnt/float(len(images))))\n"
   ]
  }
 ],
 "metadata": {
  "kernelspec": {
   "display_name": "Python 3",
   "language": "python",
   "name": "python3"
  },
  "language_info": {
   "codemirror_mode": {
    "name": "ipython",
    "version": 3
   },
   "file_extension": ".py",
   "mimetype": "text/x-python",
   "name": "python",
   "nbconvert_exporter": "python",
   "pygments_lexer": "ipython3",
   "version": "3.7.4"
  }
 },
 "nbformat": 4,
 "nbformat_minor": 2
}
