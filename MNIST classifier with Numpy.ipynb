{
 "cells": [
  {
   "cell_type": "code",
   "execution_count": 48,
   "metadata": {},
   "outputs": [],
   "source": [
    "#This is a neural network for classifying MNIST without an ML framework"
   ]
  },
  {
   "cell_type": "code",
   "execution_count": 49,
   "metadata": {},
   "outputs": [],
   "source": [
    "import numpy as np\n",
    "from keras.datasets import mnist #Necessary to get MNIST dataset\n",
    "np.random.seed(1)"
   ]
  },
  {
   "cell_type": "code",
   "execution_count": 50,
   "metadata": {},
   "outputs": [],
   "source": [
    "(x_train, y_train), (x_test, y_test) = mnist.load_data() #Load into tuples"
   ]
  },
  {
   "cell_type": "code",
   "execution_count": 51,
   "metadata": {},
   "outputs": [],
   "source": [
    "images, labels = (x_train[0:1000].reshape(1000,28*28) / 255, #take the first 1000 images for training and reshape them into 28,28 images, then scale them between 0 and 1\n",
    "                y_train[0:1000])"
   ]
  },
  {
   "cell_type": "code",
   "execution_count": 52,
   "metadata": {},
   "outputs": [],
   "source": [
    "one_hot_labels = np.zeros((len(labels),10)) #Create the label matrices\n",
    "for i,l in enumerate(labels):\n",
    "    one_hot_labels[i][l] = 1 #put a 1 in the matrix at the label location\n",
    "labels = one_hot_labels\n"
   ]
  },
  {
   "cell_type": "code",
   "execution_count": 53,
   "metadata": {},
   "outputs": [
    {
     "name": "stdout",
     "output_type": "stream",
     "text": [
      "[[0. 0. 0. 0. 0. 1. 0. 0. 0. 0.]\n",
      " [1. 0. 0. 0. 0. 0. 0. 0. 0. 0.]\n",
      " [0. 0. 0. 0. 1. 0. 0. 0. 0. 0.]]\n"
     ]
    }
   ],
   "source": [
    "print(labels[0:3])"
   ]
  },
  {
   "cell_type": "code",
   "execution_count": 54,
   "metadata": {},
   "outputs": [],
   "source": [
    "test_images = x_test.reshape(len(x_test),28*28) / 255 #Reshape the test images as well\n",
    "test_labels = np.zeros((len(y_test),10))\n",
    "for i,l in enumerate(y_test):\n",
    "    test_labels[i][l] = 1"
   ]
  },
  {
   "cell_type": "code",
   "execution_count": 55,
   "metadata": {},
   "outputs": [],
   "source": [
    "def tanh(x):\n",
    "    return np.tanh(x) #implement the tanh activation function\n",
    "def tanh2deriv(x):\n",
    "    return 1 - (x ** 2) #derivative of tanh\n",
    "def softmax(x):\n",
    "    temp = np.exp(x)\n",
    "    return temp / np.sum(temp, axis = 1, keepdims = True)#output / sum"
   ]
  },
  {
   "cell_type": "code",
   "execution_count": 56,
   "metadata": {},
   "outputs": [],
   "source": [
    "alpha, iterations, hidden_size = (2,300,100) #Declare learning rate, epochs, network size\n",
    "pixels_per_image, num_labels = (784,10) #Declare pixels in an image (28*28) and the labels\n",
    "batch_size = 100 #Number of examples per batch"
   ]
  },
  {
   "cell_type": "code",
   "execution_count": 57,
   "metadata": {},
   "outputs": [],
   "source": [
    "weights_0_1 = 0.02*np.random.random((pixels_per_image,hidden_size)) - 0.01 #Scale the SD of the weights to be very small to work with tanh\n",
    "weights_1_2 = 0.2*np.random.random((hidden_size,num_labels)) - 0.1 #Larger SD for softmax activation function is acceptable"
   ]
  },
  {
   "cell_type": "code",
   "execution_count": 58,
   "metadata": {},
   "outputs": [
    {
     "name": "stdout",
     "output_type": "stream",
     "text": [
      "\n",
      "I:0 Test-Acc:0.394 Train-Acc:0.156\n",
      "\n",
      "I:10 Test-Acc:0.6867 Train-Acc:0.723\n",
      "\n",
      "I:20 Test-Acc:0.7025 Train-Acc:0.732\n",
      "\n",
      "I:30 Test-Acc:0.734 Train-Acc:0.763\n",
      "\n",
      "I:40 Test-Acc:0.7663 Train-Acc:0.794\n",
      "\n",
      "I:50 Test-Acc:0.7913 Train-Acc:0.819\n",
      "\n",
      "I:60 Test-Acc:0.8102 Train-Acc:0.849\n",
      "\n",
      "I:70 Test-Acc:0.8228 Train-Acc:0.864\n",
      "\n",
      "I:80 Test-Acc:0.831 Train-Acc:0.867\n",
      "\n",
      "I:90 Test-Acc:0.8364 Train-Acc:0.885\n",
      "\n",
      "I:100 Test-Acc:0.8407 Train-Acc:0.883\n",
      "\n",
      "I:110 Test-Acc:0.845 Train-Acc:0.891\n",
      "\n",
      "I:120 Test-Acc:0.8481 Train-Acc:0.901\n",
      "\n",
      "I:130 Test-Acc:0.8505 Train-Acc:0.901\n",
      "\n",
      "I:140 Test-Acc:0.8526 Train-Acc:0.905\n",
      "\n",
      "I:150 Test-Acc:0.8555 Train-Acc:0.914\n",
      "\n",
      "I:160 Test-Acc:0.8577 Train-Acc:0.925\n",
      "\n",
      "I:170 Test-Acc:0.8596 Train-Acc:0.918\n",
      "\n",
      "I:180 Test-Acc:0.8619 Train-Acc:0.933\n",
      "\n",
      "I:190 Test-Acc:0.863 Train-Acc:0.933\n",
      "\n",
      "I:200 Test-Acc:0.8642 Train-Acc:0.926\n",
      "\n",
      "I:210 Test-Acc:0.8653 Train-Acc:0.931\n",
      "\n",
      "I:220 Test-Acc:0.8668 Train-Acc:0.93\n",
      "\n",
      "I:230 Test-Acc:0.8672 Train-Acc:0.937\n",
      "\n",
      "I:240 Test-Acc:0.8681 Train-Acc:0.938\n",
      "\n",
      "I:250 Test-Acc:0.8687 Train-Acc:0.937\n",
      "\n",
      "I:260 Test-Acc:0.8684 Train-Acc:0.945\n",
      "\n",
      "I:270 Test-Acc:0.8703 Train-Acc:0.951\n",
      "\n",
      "I:280 Test-Acc:0.8699 Train-Acc:0.949\n",
      "\n",
      "I:290 Test-Acc:0.8701 Train-Acc:0.94\n"
     ]
    }
   ],
   "source": [
    "for j in range(iterations):#iterate over the number of iterations\n",
    "    correct_cnt = 0#start the number of correct examples at 0\n",
    "    for i in range(int(len(images) / batch_size)): #train on a batch of images\n",
    "        batch_start, batch_end = ((i * batch_size), ((i + 1) * batch_size))#Declare the actual range of images to be trained by the batch\n",
    "        layer_0 = images[batch_start:batch_end] #Get the input layer of images\n",
    "        layer_1 = tanh(np.dot(layer_0,weights_0_1)) #Layer 1 is the product of the weights and inputs with tanh applied\n",
    "        dropout_mask = np.random.randint(2,size = layer_1.shape) #Get an int array of 0 and 1 the size of layer 1\n",
    "        layer_1 *= dropout_mask * 2 #Multiply the first layer by either 0 or 2 to compensate for silenced neurons\n",
    "        layer_2 = softmax(np.dot(layer_1,weights_1_2)) #Finally, produce the output of the network\n",
    "        \n",
    "        for k in range(batch_size): #Iterate over each image in the batch\n",
    "            correct_cnt += int(np.argmax(layer_2[k:k+1]) == \\\n",
    "                               np.argmax(labels[batch_start+k:batch_start+k+1]))#Increment the count by either 0 or 1, depending on whether layer 2's prediction corresponded to the label\n",
    "        layer_2_delta = (labels[batch_start:batch_end] - layer_2)\\\n",
    "                            / (batch_size * layer_2.shape[0]) #Get the change for layer 2's weights by finding the difference between the labels and layer 2's output\n",
    "        layer_1_delta = layer_2_delta.dot(weights_1_2.T) * tanh2deriv(layer_1) #Find the change for layer 1's weights by getting the output of layer 2 multiplied by the derivative of the outputs of layer 1\n",
    "        layer_1_delta *= dropout_mask #Regularize learning by applying the dropout mask so silenced weights are not updated\n",
    "        \n",
    "        weights_1_2 += alpha * layer_1.T.dot(layer_2_delta) #Update layer 2 weights by the learning weight times the change in layer 2\n",
    "        weights_0_1 += alpha * layer_0.T.dot(layer_1_delta) #Update layer 1 weights with the same process\n",
    "        \n",
    "    test_correct_cnt = 0 #Find the correct count for the test images\n",
    "    for i in range(len(test_images)): #Find the test accuracy\n",
    "        layer_0 = test_images[i:i+1] #Input the test images\n",
    "        layer_1 = tanh(np.dot(layer_0,weights_0_1)) #Apply l1 transformations\n",
    "        layer_2 = np.dot(layer_1,weights_1_2) #Apply l2 transformations\n",
    "        \n",
    "        test_correct_cnt += int(np.argmax(layer_2) == np.argmax(test_labels[i:i+1])) #Find count of correct examples\n",
    "        \n",
    "    if(j % 10 == 0): #Print statistics every 10 epochs\n",
    "        print(\"\\n\"+ \"I:\" + str(j) + \\\n",
    "         \" Test-Acc:\"+str(test_correct_cnt/float(len(test_images)))+\\\n",
    "         \" Train-Acc:\" + str(correct_cnt/float(len(images))))"
   ]
  },
  {
   "cell_type": "code",
   "execution_count": 59,
   "metadata": {},
   "outputs": [
    {
     "name": "stdout",
     "output_type": "stream",
     "text": [
      "\n",
      "I:0 Test-Acc:0.394 Train-Acc:0.156\n",
      "I:10 Test-Acc:0.6867 Train-Acc:0.723\n",
      "I:20 Test-Acc:0.7025 Train-Acc:0.732\n",
      "I:30 Test-Acc:0.734 Train-Acc:0.763\n",
      "I:40 Test-Acc:0.7663 Train-Acc:0.794\n",
      "I:50 Test-Acc:0.7913 Train-Acc:0.819\n",
      "I:60 Test-Acc:0.8102 Train-Acc:0.849\n",
      "I:70 Test-Acc:0.8228 Train-Acc:0.864\n",
      "I:80 Test-Acc:0.831 Train-Acc:0.867\n",
      "I:90 Test-Acc:0.8364 Train-Acc:0.885\n",
      "I:100 Test-Acc:0.8407 Train-Acc:0.883\n",
      "I:110 Test-Acc:0.845 Train-Acc:0.891\n",
      "I:120 Test-Acc:0.8481 Train-Acc:0.901\n",
      "I:130 Test-Acc:0.8505 Train-Acc:0.901\n",
      "I:140 Test-Acc:0.8526 Train-Acc:0.905\n",
      "I:150 Test-Acc:0.8555 Train-Acc:0.914\n",
      "I:160 Test-Acc:0.8577 Train-Acc:0.925\n",
      "I:170 Test-Acc:0.8596 Train-Acc:0.918\n",
      "I:180 Test-Acc:0.8619 Train-Acc:0.933\n",
      "I:190 Test-Acc:0.863 Train-Acc:0.933\n",
      "I:200 Test-Acc:0.8642 Train-Acc:0.926\n",
      "I:210 Test-Acc:0.8653 Train-Acc:0.931\n",
      "I:220 Test-Acc:0.8668 Train-Acc:0.93\n",
      "I:230 Test-Acc:0.8672 Train-Acc:0.937\n",
      "I:240 Test-Acc:0.8681 Train-Acc:0.938\n",
      "I:250 Test-Acc:0.8687 Train-Acc:0.937\n",
      "I:260 Test-Acc:0.8684 Train-Acc:0.945\n",
      "I:270 Test-Acc:0.8703 Train-Acc:0.951\n",
      "I:280 Test-Acc:0.8699 Train-Acc:0.949\n",
      "I:290 Test-Acc:0.8701 Train-Acc:0.94"
     ]
    }
   ],
   "source": [
    "import numpy as np, sys\n",
    "np.random.seed(1)\n",
    "\n",
    "from keras.datasets import mnist\n",
    "(x_train, y_train), (x_test, y_test) = mnist.load_data()\n",
    "\n",
    "images, labels = (x_train[0:1000].reshape(1000,28*28)\\\n",
    "                                              / 255, y_train[0:1000])\n",
    "one_hot_labels = np.zeros((len(labels),10))\n",
    "for i,l in enumerate(labels):\n",
    "    one_hot_labels[i][l] = 1\n",
    "labels = one_hot_labels\n",
    "\n",
    "test_images = x_test.reshape(len(x_test),28*28) / 255\n",
    "test_labels = np.zeros((len(y_test),10))\n",
    "for i,l in enumerate(y_test):\n",
    "    test_labels[i][l] = 1\n",
    "\n",
    "def tanh(x):\n",
    "    return np.tanh(x)\n",
    "def tanh2deriv(output):\n",
    "    return 1 - (output ** 2)\n",
    "def softmax(x):\n",
    "    temp = np.exp(x)\n",
    "    return temp / np.sum(temp, axis=1, keepdims=True)\n",
    "\n",
    "alpha, iterations, hidden_size = (2, 300, 100)\n",
    "pixels_per_image, num_labels = (784, 10)\n",
    "batch_size = 100\n",
    "\n",
    "weights_0_1 = 0.02*np.random.random((pixels_per_image,hidden_size))-0.01\n",
    "weights_1_2 = 0.2*np.random.random((hidden_size,num_labels)) - 0.1\n",
    "\n",
    "for j in range(iterations):\n",
    "    correct_cnt = 0\n",
    "    for i in range(int(len(images) / batch_size)):\n",
    "        batch_start, batch_end=((i * batch_size),((i+1)*batch_size))\n",
    "        layer_0 = images[batch_start:batch_end]\n",
    "        layer_1 = tanh(np.dot(layer_0,weights_0_1))\n",
    "        dropout_mask = np.random.randint(2,size=layer_1.shape)\n",
    "        layer_1 *= dropout_mask * 2\n",
    "        layer_2 = softmax(np.dot(layer_1,weights_1_2))\n",
    "\n",
    "        for k in range(batch_size):\n",
    "            correct_cnt += int(np.argmax(layer_2[k:k+1]) == \\\n",
    "                          np.argmax(labels[batch_start+k:batch_start+k+1]))\n",
    "        layer_2_delta = (labels[batch_start:batch_end]-layer_2)\\\n",
    "                                           / (batch_size * layer_2.shape[0])\n",
    "        layer_1_delta = layer_2_delta.dot(weights_1_2.T) \\\n",
    "                                                       * tanh2deriv(layer_1)\n",
    "        layer_1_delta *= dropout_mask\n",
    "\n",
    "        weights_1_2 += alpha * layer_1.T.dot(layer_2_delta)\n",
    "        weights_0_1 += alpha * layer_0.T.dot(layer_1_delta)\n",
    "    test_correct_cnt = 0\n",
    "\n",
    "    for i in range(len(test_images)):\n",
    "\n",
    "        layer_0 = test_images[i:i+1]\n",
    "        layer_1 = tanh(np.dot(layer_0,weights_0_1))\n",
    "        layer_2 = np.dot(layer_1,weights_1_2)\n",
    "        test_correct_cnt += int(np.argmax(layer_2) == \\\n",
    "                                               np.argmax(test_labels[i:i+1]))\n",
    "    if(j % 10 == 0):\n",
    "        sys.stdout.write(\"\\n\"+ \"I:\" + str(j) + \\\n",
    "         \" Test-Acc:\"+str(test_correct_cnt/float(len(test_images)))+\\\n",
    "         \" Train-Acc:\" + str(correct_cnt/float(len(images))))"
   ]
  },
  {
   "cell_type": "code",
   "execution_count": null,
   "metadata": {},
   "outputs": [],
   "source": []
  }
 ],
 "metadata": {
  "kernelspec": {
   "display_name": "Python 3",
   "language": "python",
   "name": "python3"
  },
  "language_info": {
   "codemirror_mode": {
    "name": "ipython",
    "version": 3
   },
   "file_extension": ".py",
   "mimetype": "text/x-python",
   "name": "python",
   "nbconvert_exporter": "python",
   "pygments_lexer": "ipython3",
   "version": "3.7.4"
  }
 },
 "nbformat": 4,
 "nbformat_minor": 2
}
